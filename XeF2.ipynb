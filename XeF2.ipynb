{
 "cells": [
  {
   "cell_type": "code",
   "execution_count": 23,
   "metadata": {},
   "outputs": [
    {
     "name": "stdout",
     "output_type": "stream",
     "text": [
      "[['10' '11' '12']\n",
      " ['15' '16' '17']\n",
      " ['20' '21' '22']\n",
      " ['25' '26' '27']]\n"
     ]
    }
   ],
   "source": [
    "# import matplotlib.pyplot as plt\n",
    "# import numpy as np\n",
    "\n",
    "# # with open('workfile') as f: is the function to handle all reading/writing. Everything goes under this function block. Filename='workfile'\n",
    "# # f.read(size) returns the entire file\n",
    "# # f.readline() reads a line in the file. If you run this twice, the second time will read second line. If ran until end of file, will return a blank.\n",
    "# # >>> for line in f:\n",
    "# # ...     print(line, end='')\n",
    "# # ...\n",
    "# # This is the first line of the file.\n",
    "# # Second line of the file\n",
    "\n",
    "\n",
    "# #f=open(file,\"r\")\n",
    "# lines=f.readlines()\n",
    "# result=[]\n",
    "# for x in lines:\n",
    "#     result.append(x.split(' ')[1])\n",
    "# f.close()\n",
    "\n",
    "#have to make new list of float(item) to convert string array into numbers\n",
    "\n",
    "####LIBRARIES###\n",
    "import numpy as np\n",
    "import matplotlib as plt\n",
    "import csv\n",
    "\n",
    "###IMPORT###\n",
    "\n",
    "file=r'C:\\Users\\Kevin Parrish\\Lab\\Test.txt'\n",
    "with open(file) as f:\n",
    "    data = np.array(list(csv.reader(f, delimiter=\" \")))\n",
    "data=np.transpose(data)\n",
    "\n",
    "###INITIALIZE###\n",
    "x1=np.empty(0)\n",
    "x2=np.empty(0)\n",
    "x3=np.empty(0)\n",
    "for i in range(0,data[0].size):\n",
    "    x1=np.append(x1,float(data[0][i]))\n",
    "    x2=np.append(x2,float(data[1][i]))\n",
    "    x3=np.append(x3,float(data[2][i]))\n",
    "\n",
    "\n",
    "###PROCESS###\n",
    "\n",
    "###PLOTS###\n",
    "\n",
    "\n"
   ]
  },
  {
   "cell_type": "code",
   "execution_count": 15,
   "metadata": {
    "scrolled": true
   },
   "outputs": [
    {
     "data": {
      "image/png": "[encoded data removed]",
      "text/plain": [
       "<matplotlib.figure.Figure at 0x285337065f8>"
      ]
     },
     "metadata": {},
     "output_type": "display_data"
    }
   ],
   "source": [
    "import numpy as np\n",
    "import matplotlib.pyplot as plt\n",
    "\n",
    "\n",
    "x1 = np.arange(0.0, 5.0, .001)\n",
    "x2 = np.linspace(0.0, 2.0)\n",
    "\n",
    "y1 = np.cos(2 * np.pi * x1) * np.exp(-x1)\n",
    "y2 = np.cos(2 * np.pi * x1)\n",
    "y3 = np.tan(2 * np.pi * x1)\n",
    "\n",
    "\n",
    "\n",
    "plt.plot(x1, y1)\n",
    "plt.xlabel('time (s)')\n",
    "plt.ylabel('Undamped')\n",
    "figure = plt.gcf() # get current figure\n",
    "# when saving, specify the DPI\n",
    "plt.savefig(\"myplot.png\", dpi=500)\n",
    "plt.show()\n"
   ]
  },
  {
   "cell_type": "code",
   "execution_count": null,
   "metadata": {},
   "outputs": [],
   "source": []
  },
  {
   "cell_type": "code",
   "execution_count": null,
   "metadata": {},
   "outputs": [],
   "source": []
  },
  {
   "cell_type": "code",
   "execution_count": null,
   "metadata": {},
   "outputs": [],
   "source": []
  }
 ],
 "metadata": {
  "kernelspec": {
   "display_name": "Python 3",
   "language": "python",
   "name": "python3"
  },
  "language_info": {
   "codemirror_mode": {
    "name": "ipython",
    "version": 3
   },
   "file_extension": ".py",
   "mimetype": "text/x-python",
   "name": "python",
   "nbconvert_exporter": "python",
   "pygments_lexer": "ipython3",
   "version": "3.6.3"
  }
 },
 "nbformat": 4,
 "nbformat_minor": 2
}
